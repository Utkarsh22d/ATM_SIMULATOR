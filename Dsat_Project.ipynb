{
  "nbformat": 4,
  "nbformat_minor": 0,
  "metadata": {
    "colab": {
      "provenance": []
    },
    "kernelspec": {
      "name": "python3",
      "display_name": "Python 3"
    },
    "language_info": {
      "name": "python"
    }
  },
  "cells": [
    {
      "cell_type": "code",
      "execution_count": 4,
      "metadata": {
        "id": "hQEqVHOMs36M"
      },
      "outputs": [],
      "source": [
        "import sys"
      ]
    },
    {
      "cell_type": "code",
      "source": [
        "pin=1234\n",
        "input_pin=int(input(\"enter your 4 digit pin:\"))\n",
        "if input_pin==pin:\n",
        "    class Atm:\n",
        "        def __init__(self):\n",
        "            self.saving_balance=0.00\n",
        "            self.checking_balance=100000\n",
        "            self.menu()\n",
        "        def menu(self):\n",
        "            print(\"\"\"\n",
        "            Please enter your choice!\n",
        "                1.Check saving balance\n",
        "                2.Deposit balance\n",
        "                3.Withdraw balance\n",
        "                4.Transfer fund\n",
        "                5.Exit\n",
        "            \"\"\")\n",
        "            input_options=int(input(\"Enter your option:\"))\n",
        "            if input_options==1:\n",
        "                self.check_balance()\n",
        "            elif input_options==2:\n",
        "                self.deposit_balance()\n",
        "            elif input_options==3:\n",
        "                self.withdraw_balance()\n",
        "            elif input_options==4:\n",
        "                self.transfer_fund()\n",
        "            elif input_options==5:\n",
        "                sys.exit()\n",
        "        def check_balance(self):\n",
        "            print(f\"Your balance is {self.saving_balance}\")\n",
        "            self.menu()\n",
        "        def deposit_balance(self):\n",
        "            input_deposit=float(input(\"Enter the amount:\"))\n",
        "            self.saving_balance=self.saving_balance +input_deposit\n",
        "            print(f\"Your updated saving_balance is {self.saving_balance}\")\n",
        "            self.menu()\n",
        "        def withdraw_balance(self):\n",
        "            input_withdraw=float(input(\"Enter the amount:\"))\n",
        "            if input_withdraw<=self.saving_balance:\n",
        "                self.saving_balance=self.saving_balance-input_withdraw\n",
        "                print(f\"Your updated saving_balance is {self.saving_balance}\")\n",
        "            else:\n",
        "                print(\"Insufficient balance!\")\n",
        "            self.menu()\n",
        "        def transfer_fund(self):\n",
        "            input_transfer=float(input(\"Enter the amount to transfer: \"))\n",
        "            if input_transfer<=self.checking_balance:\n",
        "                self.saving_balance=self.saving_balance+input_transfer\n",
        "                self.checking_balance=self.checking_balance-input_transfer\n",
        "                print(f\"Your updated saving_balance is {self.saving_balance}\")\n",
        "                print(f\"Your updated checking_balance is {self.checking_balance}\")\n",
        "            else:\n",
        "                print(\"Insufficient balance\")\n",
        "            self.menu()\n",
        "    sbi=Atm() \n",
        "else:\n",
        "    print(\"Incorrect pin\")"
      ],
      "metadata": {
        "id": "WmGsMvdpvZeI"
      },
      "execution_count": null,
      "outputs": []
    }
  ]
}